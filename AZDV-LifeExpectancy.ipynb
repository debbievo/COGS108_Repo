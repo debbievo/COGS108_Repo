{
 "cells": [
  {
   "cell_type": "code",
   "execution_count": 1,
   "metadata": {},
   "outputs": [],
   "source": [
    "import numpy as np\n",
    "import pandas as pd\n",
    "import matplotlib.pyplot as plt\n",
    "import sklearn as skl\n",
    "import scipy as sp\n",
    "import scipy.stats as stats\n",
    "from scipy.stats import ttest_ind, chisquare, normaltest"
   ]
  },
  {
   "cell_type": "code",
   "execution_count": 2,
   "metadata": {},
   "outputs": [],
   "source": [
    "#reading the dataset \n",
    "comboLifeExp_df = pd.read_csv(\"LifeHealthyLifeExpectancy.csv\")"
   ]
  },
  {
   "cell_type": "code",
   "execution_count": 3,
   "metadata": {},
   "outputs": [],
   "source": [
    "#Dropping null values\n",
    "comboLifeExp_df.dropna(inplace=True)"
   ]
  },
  {
   "cell_type": "code",
   "execution_count": 4,
   "metadata": {},
   "outputs": [],
   "source": [
    "#Separating the dataset into two data frames\n",
    "healthyLifeExp_df = comboLifeExp_df.drop([\"Life expectancy at birth (years)\", \"Life expectancy at birth (years).1\", \"Life expectancy at birth (years).2\", \"Life expectancy at age 60 (years)\", \"Life expectancy at age 60 (years).1\", \"Life expectancy at age 60 (years).2\"], axis=1)\n",
    "lifeExp_df = comboLifeExp_df.drop([\"Healthy life expectancy (HALE) at birth (years)\", \"Healthy life expectancy (HALE) at birth (years).1\", \"Healthy life expectancy (HALE) at birth (years).2\", \"Healthy life expectancy (HALE) at age 60 (years)\", \"Healthy life expectancy (HALE) at age 60 (years).1\", \"Healthy life expectancy (HALE) at age 60 (years).2\"], axis=1)\n"
   ]
  },
  {
   "cell_type": "code",
   "execution_count": 5,
   "metadata": {},
   "outputs": [],
   "source": [
    "#Rename columns so that it's more descriptive\n",
    "healthyLifeExp_df.rename(index=str, columns={\"Unnamed: 0\": \"Country\", \"Unnamed: 1\": \"Year\"}, inplace=True)\n",
    "\n",
    "#Setting the country as the index\n",
    "healthyLifeExp_df = healthyLifeExp_df.set_index(\"Country\")\n"
   ]
  },
  {
   "cell_type": "code",
   "execution_count": 6,
   "metadata": {},
   "outputs": [],
   "source": [
    "#Renaming the columns so that it's more descriptive\n",
    "lifeExp_df.rename(index=str, columns={\"Unnamed: 0\": \"Country\", \"Unnamed: 1\": \"Year\"}, inplace=True)\n",
    "\n",
    "#Setting the country as the index\n",
    "lifeExp_df = lifeExp_df.set_index(\"Country\")\n"
   ]
  },
  {
   "cell_type": "code",
   "execution_count": 7,
   "metadata": {},
   "outputs": [],
   "source": [
    "#Remove all years except 2015\n",
    "lifeExp_df2015 = lifeExp_df.loc[(lifeExp_df.Year != ' 2000') & (lifeExp_df.Year != ' 2005') & (lifeExp_df.Year != ' 2010') & (lifeExp_df.Year != ' 2016')]\n",
    "\n"
   ]
  },
  {
   "cell_type": "code",
   "execution_count": 8,
   "metadata": {},
   "outputs": [],
   "source": [
    "#Remove all years except 2015\n",
    "healthyLifeExp_df2015 = healthyLifeExp_df.loc[(healthyLifeExp_df.Year != ' 2000') & (healthyLifeExp_df.Year != ' 2005') & (healthyLifeExp_df.Year != ' 2010') & (healthyLifeExp_df.Year != ' 2016')]\n"
   ]
  }
 ],
 "metadata": {
  "kernelspec": {
   "display_name": "Python 3",
   "language": "python",
   "name": "python3"
  },
  "language_info": {
   "codemirror_mode": {
    "name": "ipython",
    "version": 3
   },
   "file_extension": ".py",
   "mimetype": "text/x-python",
   "name": "python",
   "nbconvert_exporter": "python",
   "pygments_lexer": "ipython3",
   "version": "3.7.1"
  }
 },
 "nbformat": 4,
 "nbformat_minor": 2
}
