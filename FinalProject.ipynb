{
 "cells": [
  {
   "cell_type": "markdown",
   "metadata": {},
   "source": [
    "# COGS 108 - Final Project"
   ]
  },
  {
   "cell_type": "markdown",
   "metadata": {},
   "source": [
    "## Important\n",
    "\n",
    "- ONE, and only one, member of your group should upload this notebook to TritonED. \n",
    "- Each member of the group will receive the same grade on this assignment. \n",
    "- Keep the file name the same: submit the file 'FinalProject.ipynb'.\n",
    "- Only upload the .ipynb file to TED, do not upload any associted data. Make sure that for cells in which you want graders to see output that these cells have been executed."
   ]
  },
  {
   "cell_type": "markdown",
   "metadata": {},
   "source": [
    "## Group Members: Fill in the Student IDs of each group member here\n",
    "\n",
    "Replace the lines below to list each persons full student ID, ucsd email and full name.\n",
    "\n",
    "- A14743301 - nasalim@ucsd.edu - Nadya Audrey Salim\n",
    "- A14233594 - tpaulo@ucsd.edu - Tyler Paulo\n",
    "- A13856476 - jjp040@ucsd.edu - Joycelyn Peng\n",
    "- A11634379 - adz001@ucsd.edu - Adam Zhang\n",
    "- A12327392 - dnvo@ucsd.edu - Debbie Vo\n",
    "\n",
    "### Member Contribution:\n",
    "- Nadya: Improved Sanitation (Data Cleaning/Visualization)\n",
    "- Tyler: Safe Sanitation (Data Cleaning/Visualization)\n",
    "- Joycelyn: CHE as percentage of GDP (Data Cleaning/Visualization)\n",
    "- Adam: Life Expectancy (Data Analysis)\n",
    "- Debbie: Life Expectancy (Data Cleaning/Visualization)\n"
   ]
  },
  {
   "cell_type": "markdown",
   "metadata": {},
   "source": [
    "### Introduction and Background\n",
    "\n",
    "Initially, we were only interested in the factors of sex, lifestyle, and environment affecting life expectancy. However, after consulting with a TA about our research question, we decided to be more specific and look at the effects percentage of GDP spent on healthcare and prevalence of sanitation services has on life expectancy. We think that this would be important data considering the growing rate of homeless people on the street and even more severe situations such as the water crisis in Flint, Michigan.\n",
    "\n",
    "In our hypothesis, we predict that countries that spend more of their GDP on health increase the life expectancy of their citizens. Meanwhile, on reuters.com, we read that the United States spends about twice as much as other high-income countries on health but has a relatively low life expectancy. We’re interested to see if the United States is the only country that has this uncommon relationship between the amount of money spent on health with life expectancy.\n",
    "\n",
    "From this data, we also want to see how impactful sanitation is on health. According to Duncan Mara et al., lack of sanitation could lead to spread of disease and is often associated with poverty and accounts for about 10% of the global burden of disease. We assume that sanitation will have a big impact on the country’s life expectancy seeing the fact that has been laid out by Duncan Mara et al. Overall, we are interested in the effect of money spent on health and sanitation services on people’s health.\n",
    "\n",
    "\n",
    "References (include links):\n",
    "- 1) GDP on health: https://www.reuters.com/article/us-health-spending/u-s-health-spending-twice-other-countries-with-worse-results-idUSKCN1GP2YN\n",
    "- 2) Sanitation and Health: https://www.ncbi.nlm.nih.gov/pmc/articles/PMC2981586/"
   ]
  },
  {
   "cell_type": "markdown",
   "metadata": {},
   "source": [
    "### Data Description\n",
    "\n",
    "- __Dataset Name:__ Life expectancy and Healthy life expectancy data by country\n",
    "- __Link to the dataset:__ http://apps.who.int/gho/data/view.main.SDG2016LEXREGv?lang=en\n",
    "- __Number of observations:__ 3111\n",
    "- __Description:__ Gives the average life expectancy at birth by region and by country. Life expectancy is differentiated between that at birth and at 60 years, and also between the sexes. The dataset gives data from 2000 to 2016, but we will only be using 2015 data.\n",
    "\n",
    "\n",
    "- __Dataset Name:__ Current health expenditure (CHE) as percentage of gross domestic product (GDP) (%) data by country\n",
    "- __Link to the dataset:__ http://apps.who.int/gho/data/view.main.GHEDCHEGDPSHA2011v?lang=en \n",
    "- __Number of Observations:__ 195\n",
    "- __Description:__ The portion of resources channeled to the health sector in the whole economy of the country. This refers to the level of Current Health Expenditure expressed as a percentage of GDP. We’ll be using only 2015 data and it will be added as an additional column to the main dataset. \n",
    "\n",
    "\n",
    "- __Dataset Name:__ Basic and safely managed sanitation services data by country\n",
    "- __Link to the Dataset:__ http://apps.who.int/gho/data/view.main.WSHSANITATIONv?lang=en\n",
    "- __Number of Observations:__ 194\n",
    "- __Description:__ Sanitation in this data refers to the provision of facilities and services for the safe disposal of human urine and feces. Sanitation facilities include flush/pour flush toilets connected to piped sewer systems, septic tanks or pit latrines, and composting toilets. We’ll be using only 2015 data and the total for using at least basic services, which will be added as an additional column on the main dataset. \n",
    "\n",
    "\n",
    "- __Dataset Name:__ People using safely managed sanitation services (% of population) or Improved Sanitation (% Overall Access)\n",
    "- __Link to the dataset:__ https://data.worldbank.org/indicator/SH.STA.SMSS.ZS\n",
    "- __Number of Observations:__ \n",
    "- __Description:__ The percentage of people using improved sanitation facilities that are not shared with other households and where excreta are safely disposed of in situ or transported and treated offsite. Improved sanitation facilities include flush/pour flush to piped sewer systems, septic tanks or pit latrines: ventilated improved pit latrines, compositing toilets or pit latrines with slabs."
   ]
  },
  {
   "cell_type": "code",
   "execution_count": null,
   "metadata": {},
   "outputs": [],
   "source": [
    "import numpy as np\n",
    "import pandas as pd\n",
    "import matplotlib.pyplot as plt\n",
    "import sklearn as skl\n",
    "import scipy as sp\n",
    "import scipy.stats as stats\n",
    "from scipy.stats import ttest_ind, chisquare, normaltest"
   ]
  },
  {
   "cell_type": "code",
   "execution_count": null,
   "metadata": {},
   "outputs": [],
   "source": [
    "### TYLER ### \n",
    "# Read 'SafeSanitation.csv' data file into 'safeSani' dataFrame.\n",
    "safeSani = pd.read_csv('SafeSanitation.csv')\n",
    "# Get rid of extraneous data columns.\n",
    "safeSani = safeSani[['Unnamed: 0', '2015.2', '2015.5']]\n",
    "# Clean 'safeSani' to get rid of any null values.\n",
    "safeSani = safeSani.dropna(how='any')\n",
    "# Make the index 'Unnamed: 0' (will rename below); holds country names.\n",
    "safeSani = safeSani.set_index('Unnamed: 0')\n",
    "# Drop the 'Country' column.\n",
    "safeSani = safeSani.drop(['Country'])\n",
    "# Rename the columns in 'safeSani' to be more descriptive.\n",
    "safeSani = safeSani.rename(index=str, columns={'2015.2': 'Total pop. using basic sanitation services (2015)', '2015.5': 'Total pop. using safely managed sanitation services (2015)'})\n",
    "# Set the index name to 'Country'.\n",
    "safeSani.index.names = ['Country']\n",
    "# Display 'safeSani' dataFrame.\n",
    "safeSani\n",
    "\n",
    "### JOYCE ###\n",
    "# import the csv as a panda dataframe\n",
    "gdp_df = pd.read_csv(\"CHEGDP.csv\")\n",
    "\n",
    "# set the value of the first row to be the name of the columns\n",
    "gdp_df.columns = gdp_df.iloc[0]\n",
    "\n",
    "# drop the repeated row of labels\n",
    "gdp_df = gdp_df.drop(gdp_df.index[[0]])\n",
    "\n",
    "# drop the data for all years excecpt 2015\n",
    "gdp_df = gdp_df.drop(columns=[' 2014',' 2013',' 2012',' 2011',' 2010',' 2009',' 2008',' 2007',' 2006',' 2005',' 2004',' 2003',' 2002',' 2001',' 2000'])\n",
    "gdp_df = gdp_df.replace(\"No data\", pd.np.nan).dropna(axis=0, how='any')\n",
    "gdp_df = gdp_df.rename(columns={' 2015': '2015'})\n",
    "gdp_df\n",
    "\n",
    "### NADYA ###\n",
    "improvedSani = pd.read_csv('ImprovedSanitation.csv')\n",
    "\n",
    "#Drop the first 3 rows - consisting unrelated information to the data being used\n",
    "improvedSani = improvedSani.drop(improvedSani.index[[0,1,2]])\n",
    "\n",
    "#Set the value of the 1st row to be the column labels\n",
    "improvedSani.columns = improvedSani.iloc[0]\n",
    "\n",
    "#Drop the first row\n",
    "improvedSani = improvedSani.drop(improvedSani.index[[0]])\n",
    "del improvedSani.columns.name\n",
    "\n",
    "#Rename all of the columns\n",
    "improvedSani = improvedSani.rename(columns={2000.0: 2000, 2001.0:2001, 2002.0:2002, 2003.0:2003, 2004.0:2004,\n",
    "                                                       2005.0:2005, 2006.0:2006, 2007.0:2007, 2008.0:2008, 2009.0:2009,\n",
    "                                                       2010.0:2010, 2011.0:2011, 2012.0:2012, 2013.0:2013, 2014.0:2014,\n",
    "                                                       2015.0:2015})\n",
    "#Drop other columns and only keep 2015 data\n",
    "improvedSani = improvedSani.drop(columns=[2000, 2001, 2002, 2003, 2004, 2005, 2006, 2007, 2008, 2009, 2010, 2011, 2012, 2013, 2014])\n",
    "\n",
    "#Reset the index count and drop unnecessary columns\n",
    "improvedSani.reset_index(level=0, inplace=True)\n",
    "improvedSani= improvedSani.drop(columns=['index','Indicator Code','Indicator Name', 'Country Code'])\n",
    "\n",
    "#Remove rows that have missing data\n",
    "improvedSani.dropna(inplace=True)\n",
    "\n",
    "#Rounding data values to 2 decimals\n",
    "improvedSani[2015] = improvedSani[2015].apply(lambda x: round(x,2))\n",
    "\n",
    "improvedSani\n",
    "\n",
    "### DEBBIE ###\n",
    "#reading the dataset \n",
    "comboLifeExp_df = pd.read_csv(\"LifeHealthyLifeExpectancy.csv\")\n",
    "#Dropping null values\n",
    "comboLifeExp_df.dropna(inplace=True)\n",
    "#Separating the dataset into two data frames\n",
    "healthyLifeExp_df = comboLifeExp_df.drop([\"Life expectancy at birth (years)\", \"Life expectancy at birth (years).1\", \"Life expectancy at birth (years).2\", \"Life expectancy at age 60 (years)\", \"Life expectancy at age 60 (years).1\", \"Life expectancy at age 60 (years).2\"], axis=1)\n",
    "lifeExp_df = comboLifeExp_df.drop([\"Healthy life expectancy (HALE) at birth (years)\", \"Healthy life expectancy (HALE) at birth (years).1\", \"Healthy life expectancy (HALE) at birth (years).2\", \"Healthy life expectancy (HALE) at age 60 (years)\", \"Healthy life expectancy (HALE) at age 60 (years).1\", \"Healthy life expectancy (HALE) at age 60 (years).2\"], axis=1)\n",
    "#Rename columns so that it's more descriptive\n",
    "healthyLifeExp_df.rename(index=str, columns={\"Unnamed: 0\": \"Country\", \"Unnamed: 1\": \"Year\"}, inplace=True)\n",
    "#Setting the country as the index\n",
    "healthyLifeExp_df = healthyLifeExp_df.set_index(\"Country\")\n",
    "#Renaming the columns so that it's more descriptive\n",
    "lifeExp_df.rename(index=str, columns={\"Unnamed: 0\": \"Country\", \"Unnamed: 1\": \"Year\"}, inplace=True)\n",
    "#Setting the country as the index\n",
    "lifeExp_df = lifeExp_df.set_index(\"Country\")\n",
    "#Remove all years except 2015\n",
    "lifeExp_df2015 = lifeExp_df.loc[(lifeExp_df.Year != ' 2000') & (lifeExp_df.Year != ' 2005') & (lifeExp_df.Year != ' 2010') & (lifeExp_df.Year != ' 2016')]\n",
    "#Remove all years except 2015\n",
    "healthyLifeExp_df2015 = healthyLifeExp_df.loc[(healthyLifeExp_df.Year != ' 2000') & (healthyLifeExp_df.Year != ' 2005') & (healthyLifeExp_df.Year != ' 2010') & (healthyLifeExp_df.Year != ' 2016')]"
   ]
  },
  {
   "cell_type": "markdown",
   "metadata": {},
   "source": [
    "### Data Visualization\n"
   ]
  },
  {
   "cell_type": "code",
   "execution_count": null,
   "metadata": {},
   "outputs": [],
   "source": []
  },
  {
   "cell_type": "markdown",
   "metadata": {},
   "source": [
    "### Data Analysis and Results"
   ]
  },
  {
   "cell_type": "code",
   "execution_count": null,
   "metadata": {},
   "outputs": [],
   "source": []
  },
  {
   "cell_type": "markdown",
   "metadata": {},
   "source": [
    "### Privacy/Ethics Considerations\n",
    "\n",
    "The data that we are going to use is open source for people to view, but we do not have explicit permission from the WHO. There are no privacy concerns regarding our datasets as the data already follows the Safe Harbour method and only displays gender and ages by country. There may be potential biases in the dataset due to the fact that all of the data we are using is coming from the same website. It isn’t quite clear how the data has been collected, but as far as we know, there shouldn’t be any other issues in terms of data privacy since, as we have mentioned before, our data has followed the Safe Harbour method and it doesn’t consist of individual personal information. \n",
    "\n",
    "Our data is in a form of statistics collected based on countries, and the only exclusions are due to a failure (or prevention) of information provision by the country in question. For instance, the Democratic People’s Republic of Korea has not disclosed their GDP health expenditure, or WHO was not able to acquire it. Issues of this sort will simply be addressed by cleaning these null cells from the data. Overall, our topic area and the included data analysis is not problematic in terms of data privacy, but an equitable impact is possible. If we approach our dataset with a bias that less well-off countries will immediately have a worse life expectancy, for example, it may skew our collective perspective and results. Instead, a neutral and unbiased approach is absolutely necessary to minimize confounds, even unconscious ones."
   ]
  },
  {
   "cell_type": "markdown",
   "metadata": {},
   "source": [
    "### Conclusions and Discussion"
   ]
  },
  {
   "cell_type": "markdown",
   "metadata": {},
   "source": [
    "Conclusion/Discussion here."
   ]
  }
 ],
 "metadata": {
  "kernelspec": {
   "display_name": "Python 3",
   "language": "python",
   "name": "python3"
  },
  "language_info": {
   "codemirror_mode": {
    "name": "ipython",
    "version": 3
   },
   "file_extension": ".py",
   "mimetype": "text/x-python",
   "name": "python",
   "nbconvert_exporter": "python",
   "pygments_lexer": "ipython3",
   "version": "3.7.1"
  }
 },
 "nbformat": 4,
 "nbformat_minor": 2
}
