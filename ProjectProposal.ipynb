{
 "cells": [
  {
   "cell_type": "markdown",
   "metadata": {},
   "source": [
    "# COGS 108 - Project Proposal"
   ]
  },
  {
   "cell_type": "markdown",
   "metadata": {},
   "source": [
    "## Important\n",
    "\n",
    "- Make sure all group members (3-6 people) are listed in the group members section.\n",
    "- ONE, and only one, member of your group should upload this notebook to TritonED. \n",
    "- Each member of the group will receive the same grade on this assignment. \n",
    "- Keep the file name the same: submit the file 'ProjectProposal.ipynb'"
   ]
  },
  {
   "cell_type": "markdown",
   "metadata": {},
   "source": [
    "## Overview"
   ]
  },
  {
   "cell_type": "markdown",
   "metadata": {},
   "source": [
    "Read the project description and detailed instructions for this assignment in the 'ProjectOutline' document."
   ]
  },
  {
   "cell_type": "markdown",
   "metadata": {},
   "source": [
    "## Group Members: Fill in the Student IDs of each group member here\n",
    "\n",
    "Replace the lines below to list each persons full student ID. Add lines as needed for your group size, and make sure each ID is listed on a separate line. \n",
    "\n",
    "- A14743301 - Nadya Audrey Salim\n",
    "- A14233594 - Tyler Paulo\n",
    "- A13856476 - Joycelyn Peng\n",
    "- A11634379 - Adam Zhang\n",
    "- A12327392 - Debbie Vo"
   ]
  },
  {
   "cell_type": "markdown",
   "metadata": {},
   "source": [
    "### Research Question\n",
    "\n",
    "What is your research question? (1-2 sentences)"
   ]
  },
  {
   "cell_type": "markdown",
   "metadata": {},
   "source": [
    "Can computational models determine a person's life expectancy based on the GDP health expenditure and sanitation services?"
   ]
  },
  {
   "cell_type": "markdown",
   "metadata": {},
   "source": [
    "### Hypothesis\n",
    "\n",
    "What is your main hypothesis and predictions? (2-3 sentences)"
   ]
  },
  {
   "cell_type": "markdown",
   "metadata": {},
   "source": [
    "We think that if a larger portion of the country’s GDP is spent on health expenditure and sanitation services, it will lead to a better quality of life in those countries. As such we predict there will be longer life expectancy for its citizens. "
   ]
  },
  {
   "cell_type": "markdown",
   "metadata": {},
   "source": [
    "### Dataset(s)\n",
    "\n",
    "What data will you use to answer your question? Describe the dataset(s) in terms of number of observations, what kind of features it contains, etc. You must use at least one dataset containing at least approximately 1000 observations (if your data are smaller but you feel they are sufficient, email Prof. Keown). You are welcome (and in fact recommended) to find multiple datasets! If you do so, describe each one, and briefly explain how you will combine them together. "
   ]
  },
  {
   "cell_type": "markdown",
   "metadata": {},
   "source": [
    "- __Dataset Name:__ Life expectancy and Healthy life expectancy data by country\n",
    "- __Link to the dataset:__ http://apps.who.int/gho/data/view.main.SDG2016LEXREGv?lang=en\n",
    "- __Number of observations:__ 3111\n",
    "- __Description:__ Gives the average life expectancy at birth by region and by country. Life expectancy is differentiated between that at birth and at 60 years, and also between the sexes. The dataset gives data from 2000 to 2016, but we will only be using 2015 data.\n",
    "\n",
    "\n",
    "- __Dataset Name:__ Current health expenditure (CHE) as percentage of gross domestic product (GDP) (%) data by country\n",
    "- __Link to the dataset:__ http://apps.who.int/gho/data/view.main.GHEDCHEGDPSHA2011v?lang=en \n",
    "- __Number of Observations:__ 195\n",
    "- __Description:__ The portion of resources channeled to the health sector in the whole economy of the country. This refers to the level of Current Health Expenditure expressed as a percentage of GDP. We’ll be using only 2015 data and it will be added as an additional column to the main dataset. \n",
    "\n",
    "\n",
    "- __Dataset Name:__ Basic and safely managed sanitation services data by country\n",
    "- __Link to the Dataset:__ http://apps.who.int/gho/data/view.main.WSHSANITATIONv?lang=en\n",
    "- __Number of Observations:__ 194\n",
    "- __Description:__ Sanitation in this data refers to the provision of facilities and services for the safe disposal of human urine and feces. Sanitation facilities include flush/pour flush toilets connected to piped sewer systems, septic tanks or pit latrines, and composting toilets. We’ll be using only 2015 data and the total for using at least basic services, which will be added as an additional column on the main dataset. \n",
    "\n",
    "__How we plan to combine these datasets:__\n",
    "- The multiple datasets that we are using are provided through the World Health Organization and should subsequently have a proper overlap and method of accumulation. The data being used for each set is from the year 2015 and is separated by country. After the data is filtered by both country and year, it will be combined into a new table - with countries as the rows and health data as the columns - for further cleaning and interpretation."
   ]
  },
  {
   "cell_type": "markdown",
   "metadata": {},
   "source": [
    "### Background and Prior Work\n",
    "\n",
    "Why is this question of interest, what background information led you to your hypothesis, and why is this important?\n",
    "\n",
    "Find some relevant prior work, and reference those sources. Even if you think you have a totally novel question, find the most similar prior work that you can and discuss how it relates to your project. \n",
    "\n",
    "References can be research publications, but they need not be. Blogs, github repositories, company websites, etc., are all viable references if they are relevant to your project.\n",
    "\n",
    "(2-3 paragraphs, including at least 2 references)"
   ]
  },
  {
   "cell_type": "markdown",
   "metadata": {},
   "source": [
    "Initially, we were only interested in the factors of sex, lifestyle, and environment affecting life expectancy. However, after consulting with a TA about our research question, we decided to be more specific and look at the effects percentage of GDP spent on healthcare and prevalence of sanitation services has on life expectancy. We think that this would be important data considering the growing rate of homeless people on the street and even more severe situations such as the water crisis in Flint, Michigan.\n",
    "\n",
    "In our hypothesis, we predict that countries that spend more of their GDP on health increase the life expectancy of their citizens. Meanwhile, on reuters.com, we read that the United States spends about twice as much as other high-income countries on health but has a relatively low life expectancy. We’re interested to see if the United States is the only country that has this uncommon relationship between the amount of money spent on health with life expectancy.\n",
    "\n",
    "From this data, we also want to see how impactful sanitation is on health. According to Duncan Mara et al., lack of sanitation could lead to spread of disease and is often associated with poverty and accounts for about 10% of the global burden of disease. We assume that sanitation will have a big impact on the country’s life expectancy seeing the fact that has been laid out by Duncan Mara et al. Overall, we are interested in the effect of money spent on health and sanitation services on people’s health.\n",
    "\n",
    "\n",
    "References (include links):\n",
    "- 1) GDP on health: https://www.reuters.com/article/us-health-spending/u-s-health-spending-twice-other-countries-with-worse-results-idUSKCN1GP2YN\n",
    "- 2) Sanitation and Health: https://www.ncbi.nlm.nih.gov/pmc/articles/PMC2981586/"
   ]
  },
  {
   "cell_type": "markdown",
   "metadata": {},
   "source": [
    "### Proposed Methods\n",
    "\n",
    "What methods will you use to analyze your data?\n",
    "\n",
    "- How 'clean' is the data? To the extent that it requires cleaning, how will you do so?\n",
    "- How will you analyze the data? Be as specific as you can. Briefly mention any pre-processing steps that are required for your methods (for example, checking data distributions and performing any transformations that may be required). Include a brief outline of how you will apply your chosen method(s). \n",
    "- What do you plan to report? Briefly mention any key visualizations you plan to create, and/or the kind of results you will be able to report that address your question (this could be, for example, the outcome of some statistical test(s), prediction error on a model, a model fit parameter, etc.).\n",
    "- Include a list of packages you expect to use for you project. If you plan to use packages we have not used in class, add a very brief description about them (a few words is sufficient). "
   ]
  },
  {
   "cell_type": "markdown",
   "metadata": {},
   "source": [
    "__*Data Cleaning (2-3 sentences)*__\n",
    "The data is already very clean, but there are several missing cells for some countries. The columns that contain the missing data are not being accounted for across the board anyway, as they are out of the scope of our project. However, a couple of outlying countries contain no data whatsoever and will have to be revoked from extrapolation - by creating a new table that does not include those countries.\n",
    "\n",
    "__*Data Analysis (1-2 paragraphs)*__\n",
    "For our data, we are looking for trends to see if health spending and sanitation cause a shift in life expectancy. We first plan to individually check both health spending and sanitation separately by calculating their correlation scores and making a scatter plot to see if there are any matches with life expectancy. Afterward, we then will create a combined score using health spending and sanitation using different weights for each score. Then utilizing these scores we will then check to see if it more strongly matches trends in life expectancy. Additionally, we also plan to check for any connections between sanitation and health spending and see if there is a correlation there. \n",
    "\n",
    "__*What to report (2-3 sentences)*__\n",
    "From our data, we hope to extrapolate a correlation between both health spending and sanitation with life expectancy. We plan to report our data using a regression line and scatter plot to see if there is a linear trend within the data.\n",
    "\n",
    "__Packages we plan to use:__\n",
    "- numpy, scipy, pandas, matplotlib.pyplot, sklearn\n",
    "\n",
    "__Packages we might use:__\n",
    "- Seaborn, requests, beautifulsoup, bs4"
   ]
  },
  {
   "cell_type": "markdown",
   "metadata": {},
   "source": [
    "### Ethics and Privacy\n",
    "\n",
    "Briefly acknowledge and address any potential issues of ethics and privacy for the proposed project. In particular:\n",
    "- Do you have permission to use this data, for this purpose?\n",
    "- Are there privacy concerns regarding your datasets that you need to deal with, and/or terms of use that you need to comply with?\n",
    "- Are there potential biases in your dataset(s), in terms of who it composes, and how it was collected, that may be problematic in terms of it allowing for equitable analysis? (For example, does your data exclude particular populations, or is it likely to reflect particular human biases in a way that could be a problem?) \n",
    "- Are there any other issues related to your topic area, data, and/or analyses that are potentially problematic in terms of data privacy and equitable impact?\n",
    "- How will you handle any issues you identify?\n",
    "\n",
    "The data that we are going to use is open source for people to view, but we do not have explicit permission from the WHO. There are no privacy concerns regarding our datasets as the data already follows the Safe Harbour method and only displays gender and ages by country. There may be potential biases in the dataset due to the fact that all of the data we are using is coming from the same website. It isn’t quite clear how the data has been collected, but as far as we know, there shouldn’t be any other issues in terms of data privacy since, as we have mentioned before, our data has followed the Safe Harbour method and it doesn’t consist of individual personal information. \n",
    "\n",
    "Our data is in a form of statistics collected based on countries, and the only exclusions are due to a failure (or prevention) of information provision by the country in question. For instance, the Democratic People’s Republic of Korea has not disclosed their GDP health expenditure, or WHO was not able to acquire it. Issues of this sort will simply be addressed by cleaning these null cells from the data. Overall, our topic area and the included data analysis is not problematic in terms of data privacy, but an equitable impact is possible. If we approach our dataset with a bias that less well-off countries will immediately have a worse life expectancy, for example, it may skew our collective perspective and results. Instead, a neutral and unbiased approach is absolutely necessary to minimize confounds, even unconscious ones."
   ]
  },
  {
   "cell_type": "markdown",
   "metadata": {},
   "source": [
    "### Discussion\n",
    "\n",
    "Discuss your project, looking forward to what your results might mean, how they fit it in with what is already known, and what problems you may encounter. \n",
    "\n",
    "In particular:\n",
    "- If your analyses and hypotheses are correct, what will be the contribution of this project to the topic domain? \n",
    "- Alternatively, what will you do if you methods don't work and/or your hypotheses are wrong? \n",
    "- What are the potential pitfalls and potential confounds of your data and/or methods that may cause problems, and/or influence your interpretations?\n",
    "\n",
    "(2-3 paragraphs)"
   ]
  },
  {
   "cell_type": "markdown",
   "metadata": {},
   "source": [
    "If our analyses and hypotheses are correct, our project will provide support for the notion that a country’s increased spending and sanitation efforts toward its citizens' health can contribute to an overall higher life expectancy throughout the country. In turn, there would be more reason for a country to allocate funds for improved health infrastructure and better well-being of its people. It is already known and somewhat obvious that the provision of health and sanitation efforts lead to a better livelihood among societies, but this study would provide a better backbone of data-based, statistical support.\n",
    "\n",
    "In the event that our methods do not work, we can begin by seeking advice on a modified or different approach before returning to the drawing board. Similarly, if our hypotheses turn out false, insight can still be drawn from the study - perhaps the results prove the converse of our hypotheses, which would lead to a follow-up study or further investigation. Either way, a goal can be accomplished regardless of potential hurdles or pitfalls that lie in wait.\n",
    "\n",
    "For our methodology, the main problems that we are preparing for would be difficulties in extracting the data or interpreting it properly, but these issues can most likely be circumvented via guidance or assistance from instructors. Some potential pitfalls or confounds could rise around the amount spent by different countries and the corresponding life expectancy of the citizens. For instance, an upper limit on spending may start to surface as too much is put toward healthcare and/or sanitation efforts while other factors diminish and inadvertently (or directly) affect life expectancy. In a similar vein, we will have to keep in mind that GDP expenditure on health and sanitation is not the sole variable in dictating life expectancies among different countries. Instead, we seek to find an entry point into factors that guide healthy, long-lasting lives."
   ]
  }
 ],
 "metadata": {
  "kernelspec": {
   "display_name": "Python 3",
   "language": "python",
   "name": "python3"
  },
  "language_info": {
   "codemirror_mode": {
    "name": "ipython",
    "version": 3
   },
   "file_extension": ".py",
   "mimetype": "text/x-python",
   "name": "python",
   "nbconvert_exporter": "python",
   "pygments_lexer": "ipython3",
   "version": "3.7.1"
  }
 },
 "nbformat": 4,
 "nbformat_minor": 2
}
