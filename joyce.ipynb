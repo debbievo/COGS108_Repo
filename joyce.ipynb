{
 "cells": [
  {
   "cell_type": "markdown",
   "metadata": {},
   "source": [
    "# Current Health Expenditure of GDP"
   ]
  },
  {
   "cell_type": "markdown",
   "metadata": {},
   "source": [
    "### Data Cleaning/Pre-processing"
   ]
  },
  {
   "cell_type": "code",
   "execution_count": 3,
   "metadata": {},
   "outputs": [],
   "source": [
    "import numpy as np\n",
    "import pandas as pd\n",
    "import matplotlib.pyplot as plt\n",
    "import sklearn as skl\n",
    "import scipy as sp\n",
    "import scipy.stats as stats\n",
    "from scipy.stats import ttest_ind, chisquare, normaltest"
   ]
  },
  {
   "cell_type": "code",
   "execution_count": 42,
   "metadata": {},
   "outputs": [
    {
     "data": {
      "text/plain": [
       "Index(['Country', '2015'], dtype='object', name=0)"
      ]
     },
     "execution_count": 42,
     "metadata": {},
     "output_type": "execute_result"
    }
   ],
   "source": [
    "# import the csv as a panda dataframe\n",
    "gdp_df = pd.read_csv(\"CHEGDP.csv\")\n",
    "\n",
    "# set the value of the first row to be the name of the columns\n",
    "gdp_df.columns = gdp_df.iloc[0]\n",
    "\n",
    "# drop the repeated row of labels\n",
    "gdp_df = gdp_df.drop(gdp_df.index[[0]])\n",
    "\n",
    "# drop the data for all years excecpt 2015\n",
    "gdp_df = gdp_df.drop(columns=[' 2014',' 2013',' 2012',' 2011',' 2010',' 2009',' 2008',' 2007',' 2006',' 2005',' 2004',' 2003',' 2002',' 2001',' 2000'])\n",
    "gdp_df = gdp_df.replace(\"No data\", pd.np.nan).dropna(axis=0, how='any')\n",
    "gdp_df = gdp_df.rename(columns={' 2015': '2015'})\n",
    "gdp_df"
   ]
  },
  {
   "cell_type": "markdown",
   "metadata": {},
   "source": [
    "### Data Visualization"
   ]
  },
  {
   "cell_type": "code",
   "execution_count": null,
   "metadata": {},
   "outputs": [],
   "source": []
  }
 ],
 "metadata": {
  "kernelspec": {
   "display_name": "Python 3",
   "language": "python",
   "name": "python3"
  },
  "language_info": {
   "codemirror_mode": {
    "name": "ipython",
    "version": 3
   },
   "file_extension": ".py",
   "mimetype": "text/x-python",
   "name": "python",
   "nbconvert_exporter": "python",
   "pygments_lexer": "ipython3",
   "version": "3.7.1"
  }
 },
 "nbformat": 4,
 "nbformat_minor": 2
}
